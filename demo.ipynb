{
 "cells": [
  {
   "cell_type": "code",
   "execution_count": 1,
   "metadata": {},
   "outputs": [],
   "source": [
    "list1=['shakeeb','hassan','sami']    # simple phala ak list banaye ha "
   ]
  },
  {
   "cell_type": "code",
   "execution_count": 12,
   "metadata": {},
   "outputs": [],
   "source": [
    "list1.append('shoaib')  # ab us list ma ak element aur dala ha append ka keyword sb sa last ma insert karta ha jasa output ma dakho\n"
   ]
  },
  {
   "cell_type": "code",
   "execution_count": 4,
   "metadata": {},
   "outputs": [
    {
     "data": {
      "text/plain": [
       "['shakeeb', 'hassan', 'sami', 'shoaib']"
      ]
     },
     "execution_count": 4,
     "metadata": {},
     "output_type": "execute_result"
    }
   ],
   "source": [
    "list1    # dakho shoaib last ma ha"
   ]
  },
  {
   "cell_type": "code",
   "execution_count": 8,
   "metadata": {},
   "outputs": [],
   "source": [
    "list2=[]     # phr hum na ak list declare ki ha list2 ka name sa\n",
    "list2.append(list1) # aur ab hum list1 ka element ko list2 ma dal raha append ka function sa simple ha round bracket ma list ka name diya ha "
   ]
  },
  {
   "cell_type": "code",
   "execution_count": 13,
   "metadata": {},
   "outputs": [
    {
     "data": {
      "text/plain": [
       "[['shakeeb', 'hassan', 'sami', 'shoaib', 'shoaib', 'shoaib']]"
      ]
     },
     "execution_count": 13,
     "metadata": {},
     "output_type": "execute_result"
    }
   ],
   "source": [
    "list2  # output ko dakho aur farak samjo list 2 aur list ka element same tu hogaye ha lakin 2 bracket araha ha output ma q ka phala humna ak list declare ki phr uska andar ak aur list dali ha jabhi 2 bracket araha ha"
   ]
  },
  {
   "cell_type": "code",
   "execution_count": 16,
   "metadata": {},
   "outputs": [
    {
     "data": {
      "text/plain": [
       "[1, 2, 4, 5, 6]"
      ]
     },
     "execution_count": 16,
     "metadata": {},
     "output_type": "execute_result"
    }
   ],
   "source": [
    "checks=[1,2,4,5,6]  # ya ak simple list ha iska output dakho\n",
    "checks"
   ]
  },
  {
   "cell_type": "code",
   "execution_count": 15,
   "metadata": {},
   "outputs": [
    {
     "data": {
      "text/plain": [
       "6"
      ]
     },
     "execution_count": 15,
     "metadata": {},
     "output_type": "execute_result"
    }
   ],
   "source": [
    "checks.pop()    # pop ka function list ma sa element nikalna ka liya use hota ha agar hum pop ka round bracket ka andar kuch nhi daga tu wo last wala nikal daga "
   ]
  },
  {
   "cell_type": "code",
   "execution_count": 18,
   "metadata": {},
   "outputs": [],
   "source": [
    "testing=[6,7,5]  # ya ak simple list ha "
   ]
  },
  {
   "cell_type": "code",
   "execution_count": 19,
   "metadata": {},
   "outputs": [],
   "source": [
    "testing.append(checks.pop())  # ab dakho is ma hoa kiya ha jb humna checks wali list pa pop kiya tu 6 nikal gaya q ka 6 last ma tha aur humna ak new list banaye thi testing ki tu pop kar ka jo nikla wo humna testing walli list ko da diya append ka function sa"
   ]
  },
  {
   "cell_type": "code",
   "execution_count": 20,
   "metadata": {},
   "outputs": [
    {
     "data": {
      "text/plain": [
       "[6, 7, 5, 6]"
      ]
     },
     "execution_count": 20,
     "metadata": {},
     "output_type": "execute_result"
    }
   ],
   "source": [
    "testing"
   ]
  },
  {
   "cell_type": "code",
   "execution_count": 22,
   "metadata": {},
   "outputs": [
    {
     "data": {
      "text/plain": [
       "[1, 2, 4, 5]"
      ]
     },
     "execution_count": 22,
     "metadata": {},
     "output_type": "execute_result"
    }
   ],
   "source": [
    "checks # ab isko sahe sa dakho jb upar iska output arha tha tu pop karna ka baad bi 6 arahha tha q ka humna pop tu kardiya tha lakin pop kar ka jo aya tha usko kisi list ma nhi dala tha ab humna pop kiya hoa dal diya ha tu output ma 6 nhi araha ha"
   ]
  },
  {
   "cell_type": "code",
   "execution_count": 23,
   "metadata": {},
   "outputs": [
    {
     "data": {
      "text/plain": [
       "6"
      ]
     },
     "execution_count": 23,
     "metadata": {},
     "output_type": "execute_result"
    }
   ],
   "source": [
    "testing.pop(0)  # iska output dakho pop ka bracket ma jb hum phala kuch nhi da raha tha tu wo last wala hata data lakin agar hum bracket ma index daga tu wo index number pa jo value hogi usko hata daga jasa ka isma hoa ha 6 0index pa tha isliye wo nikal gaya ha"
   ]
  },
  {
   "cell_type": "code",
   "execution_count": 24,
   "metadata": {},
   "outputs": [
    {
     "data": {
      "text/plain": [
       "[7, 5, 6]"
      ]
     },
     "execution_count": 24,
     "metadata": {},
     "output_type": "execute_result"
    }
   ],
   "source": [
    "testing  # ya dakhi 6 hat gaya ha"
   ]
  },
  {
   "cell_type": "code",
   "execution_count": 27,
   "metadata": {},
   "outputs": [
    {
     "data": {
      "text/plain": [
       "[['shakeeb', 'safdar', 'shoaib', 'khan', 'anwar'],\n",
       " ['shakeeb', 'safdar', 'shoaib', 'khan', 'anwar'],\n",
       " ['shakeeb', 'safdar', 'shoaib', 'khan', 'anwar'],\n",
       " ['shakeeb', 'safdar', 'shoaib', 'khan', 'anwar'],\n",
       " ['shakeeb', 'safdar', 'shoaib', 'khan', 'anwar'],\n",
       " ['shakeeb', 'safdar', 'shoaib', 'khan', 'anwar']]"
      ]
     },
     "execution_count": 27,
     "metadata": {},
     "output_type": "execute_result"
    }
   ],
   "source": [
    "first_name=['shakeeb','safdar','shoaib']  # hum ak sath 2 list ko bi kisi dosri list ma dal sakta nested loop sa \n",
    "last_name=['khan','anwar']\n",
    "full_name=[]   #empty list declare ki ha \n",
    "for i in first_name: # first_name wali pori list i ka andar chali gaye ha\n",
    "    for j in  last_name: # last_name wali pori list j ka andar chali gaye ha\n",
    "        full_name.append(first_name+last_name) # simple append sa humna 3rd wali list ma dala ha ak baat yaad rakhna append sirf 1 argument lata jabhi concenate karwaya ha \n",
    "full_name"
   ]
  },
  {
   "cell_type": "code",
   "execution_count": 28,
   "metadata": {},
   "outputs": [
    {
     "data": {
      "text/plain": [
       "['shakeeb khan',\n",
       " 'shakeeb anwar',\n",
       " 'safdar khan',\n",
       " 'safdar anwar',\n",
       " 'shoaib khan',\n",
       " 'shoaib anwar']"
      ]
     },
     "execution_count": 28,
     "metadata": {},
     "output_type": "execute_result"
    }
   ],
   "source": [
    "first_name=['shakeeb','safdar','shoaib']  # hum ak sath 2 list ko bi kisi dosri list ma dal sakta nested loop sa \n",
    "last_name=['khan','anwar']\n",
    "full_name=[]   #empty list declare ki ha \n",
    "for i in first_name: # first_name wali pori list i ka andar chali gaye ha\n",
    "    for j in  last_name: # last_name wali pori list j ka andar chali gaye ha\n",
    "        full_name.append(i+\" \"+j) # ya same upar wala program ha lakin thori changing ha isma phala hum na full_name wali list ma append karaya tha direct first_name wali ko aur last_name wali ko tu output ma baas 2no list add ho kar show ho rahe thi lakin yaha thora demag sa khala gaya ha humna nested chala ka i ka andar 1st aur j ka andar 2nd list dal di ha ab jb full_name ka andar append karga tu output different aye ga nested ma ya hota ha ka phala loop ak baar chalta ha tu dosra pora end tk chalta ha ya tm samjta ho acha sa\n",
    "full_name"
   ]
  },
  {
   "cell_type": "code",
   "execution_count": 30,
   "metadata": {},
   "outputs": [
    {
     "data": {
      "text/plain": [
       "[2, 3, 5, 6, 9]"
      ]
     },
     "execution_count": 30,
     "metadata": {},
     "output_type": "execute_result"
    }
   ],
   "source": [
    "checks=[2,3,5,6,9] # ya simple list ha \n",
    "checks"
   ]
  },
  {
   "cell_type": "code",
   "execution_count": 35,
   "metadata": {},
   "outputs": [
    {
     "data": {
      "text/plain": [
       "[2, 'shakeeb', 'shakeeb', 3, 5, 6, 9]"
      ]
     },
     "execution_count": 35,
     "metadata": {},
     "output_type": "execute_result"
    }
   ],
   "source": [
    "checks.insert(1,'shakeeb') # append ka function last ma dalta ha lakin agar huma apni marzi sa kuch dalna ho tu insert use karta ha insert ka function ma 2 argument hota ha phala pa index number ka kn sa ma index pa dalna ha aur dosra pa element is ma do bar shakeeb isliye show ho rha ha ka enter mana 2 baar kardiya ha usna phala ko override kiya\n",
    "\n",
    "checks"
   ]
  },
  {
   "cell_type": "code",
   "execution_count": 36,
   "metadata": {},
   "outputs": [
    {
     "data": {
      "text/plain": [
       "True"
      ]
     },
     "execution_count": 36,
     "metadata": {},
     "output_type": "execute_result"
    }
   ],
   "source": [
    "33.0==33   # ya dakho asaa mcqs aye ga"
   ]
  },
  {
   "cell_type": "code",
   "execution_count": 39,
   "metadata": {},
   "outputs": [
    {
     "data": {
      "text/plain": [
       "[2, 4, 7, 9]"
      ]
     },
     "execution_count": 39,
     "metadata": {},
     "output_type": "execute_result"
    }
   ],
   "source": [
    "b=[2,7,4,9] # asa mcqs aye ga dakho phala list declare ki ha phr a variable liyaa aur sorted ka bracket ka andar list ka name diya tu wo sort ho kar b ma store hogaye\n",
    "a=sorted(b)\n",
    "a"
   ]
  },
  {
   "cell_type": "code",
   "execution_count": 43,
   "metadata": {},
   "outputs": [
    {
     "data": {
      "text/plain": [
       "['sidra', 'uzma', 'sami']"
      ]
     },
     "execution_count": 43,
     "metadata": {},
     "output_type": "execute_result"
    }
   ],
   "source": [
    "l=['sidra','uzma','sami']\n",
    "l"
   ]
  },
  {
   "cell_type": "code",
   "execution_count": 44,
   "metadata": {},
   "outputs": [
    {
     "data": {
      "text/plain": [
       "['sidra', 'uzma', 'sami', 'shakeeb', 'safdar']"
      ]
     },
     "execution_count": 44,
     "metadata": {},
     "output_type": "execute_result"
    }
   ],
   "source": [
    "l.extend(['shakeeb','safdar'])  #extend sa hum ka sa zada kasa dalta ya dakho \n",
    "l"
   ]
  },
  {
   "cell_type": "code",
   "execution_count": 47,
   "metadata": {},
   "outputs": [
    {
     "data": {
      "text/plain": [
       "['sidra', 'uzma', 'sami', 'shakeeb', 'safdar', [45, 678], [45, 678]]"
      ]
     },
     "execution_count": 47,
     "metadata": {},
     "output_type": "execute_result"
    }
   ],
   "source": [
    "l.append([45,678])  # ya dakho extendd aur append ka ak aur fark upar wali list ma humna extend kiya tu list continue rahe matlab jitna elements tha uska baad new element agaye lakin jb append kiya tu us hi list ka andar ak aur list agye yaha 2 baar isliye ha ka enter double press hogaya ha\n",
    "l"
   ]
  },
  {
   "cell_type": "code",
   "execution_count": 55,
   "metadata": {},
   "outputs": [
    {
     "data": {
      "text/plain": [
       "['shakeeb']"
      ]
     },
     "execution_count": 55,
     "metadata": {},
     "output_type": "execute_result"
    }
   ],
   "source": [
    "'shakeeb'.split() # jb bi kisi string pa split ka function use karaga tu wo list ban jaega "
   ]
  },
  {
   "cell_type": "code",
   "execution_count": 56,
   "metadata": {},
   "outputs": [
    {
     "data": {
      "text/plain": [
       "['shoaib', 'khan']"
      ]
     },
     "execution_count": 56,
     "metadata": {},
     "output_type": "execute_result"
    }
   ],
   "source": [
    "'shoaib khan'.split() # aur agar string ma space hoa tu alag hojae ga "
   ]
  },
  {
   "cell_type": "code",
   "execution_count": 57,
   "metadata": {},
   "outputs": [
    {
     "data": {
      "text/plain": [
       "['shakeeb', 'anwar']"
      ]
     },
     "execution_count": 57,
     "metadata": {},
     "output_type": "execute_result"
    }
   ],
   "source": [
    "a='shakeeb anwar' # asa mcqs ata ha simple ko ghoma diya ha baas output puchta ha ka kiya aye ga \n",
    "b=a.split(\" \")\n",
    "b"
   ]
  },
  {
   "cell_type": "code",
   "execution_count": 62,
   "metadata": {},
   "outputs": [],
   "source": [
    "fl=[4,5,6,7]\n",
    "fl.extend('safdar')  #ya dakho ya bhot ghuma ka ana wala mcqs ha  ha extend ka round bracket ma ma int tu ata nhi ha direct error data ha magar string la tu lata ha lakin us string ko character ma toor data ha jasa yaha hoa "
   ]
  },
  {
   "cell_type": "code",
   "execution_count": 63,
   "metadata": {},
   "outputs": [
    {
     "data": {
      "text/plain": [
       "[4, 5, 6, 7, 's', 'a', 'f', 'd', 'a', 'r']"
      ]
     },
     "execution_count": 63,
     "metadata": {},
     "output_type": "execute_result"
    }
   ],
   "source": [
    "fl"
   ]
  },
  {
   "cell_type": "code",
   "execution_count": 64,
   "metadata": {},
   "outputs": [],
   "source": [
    "fl.append(1) # laikin append ka round bracket ma string aur int dono asakta ha"
   ]
  },
  {
   "cell_type": "code",
   "execution_count": 65,
   "metadata": {},
   "outputs": [
    {
     "data": {
      "text/plain": [
       "[4, 5, 6, 7, 's', 'a', 'f', 'd', 'a', 'r', 1]"
      ]
     },
     "execution_count": 65,
     "metadata": {},
     "output_type": "execute_result"
    }
   ],
   "source": [
    "fl"
   ]
  },
  {
   "cell_type": "code",
   "execution_count": 66,
   "metadata": {},
   "outputs": [],
   "source": [
    "fl.append('sami')  # aur string ko argument lana ka baad usna same print kiya torha nhi ha"
   ]
  },
  {
   "cell_type": "code",
   "execution_count": 67,
   "metadata": {},
   "outputs": [
    {
     "data": {
      "text/plain": [
       "[4, 5, 6, 7, 's', 'a', 'f', 'd', 'a', 'r', 1, 'sami']"
      ]
     },
     "execution_count": 67,
     "metadata": {},
     "output_type": "execute_result"
    }
   ],
   "source": [
    "fl"
   ]
  },
  {
   "cell_type": "code",
   "execution_count": 71,
   "metadata": {},
   "outputs": [
    {
     "data": {
      "text/plain": [
       "['shakeeb', 'anwar']"
      ]
     },
     "execution_count": 71,
     "metadata": {},
     "output_type": "execute_result"
    }
   ],
   "source": [
    "c=['shakeeb','anwar']\n",
    "c"
   ]
  },
  {
   "cell_type": "code",
   "execution_count": 72,
   "metadata": {},
   "outputs": [
    {
     "data": {
      "text/plain": [
       "['shakeeb', 'anwar', 'sami khan']"
      ]
     },
     "execution_count": 72,
     "metadata": {},
     "output_type": "execute_result"
    }
   ],
   "source": [
    "c.extend(['sami khan']) # simple list ko extend kra ha \n",
    "c"
   ]
  },
  {
   "cell_type": "code",
   "execution_count": 74,
   "metadata": {},
   "outputs": [
    {
     "data": {
      "text/plain": [
       "['sami', 'khan']"
      ]
     },
     "execution_count": 74,
     "metadata": {},
     "output_type": "execute_result"
    }
   ],
   "source": [
    "c[2].split() # index 2 pa sami khan tha uspa split lagaya tu wo wo elements ban gaye list ma"
   ]
  },
  {
   "cell_type": "code",
   "execution_count": 75,
   "metadata": {},
   "outputs": [
    {
     "data": {
      "text/plain": [
       "('a', 'b', 'c', ['d'])"
      ]
     },
     "execution_count": 75,
     "metadata": {},
     "output_type": "execute_result"
    }
   ],
   "source": [
    "'a','b','c','d'.split(\",\")  # ya mcqs ma askta ha ya sb character tha humna ispa jb split ka function lagaya ha tu ya sb ki form ma ajaye ga sirf last wala list ma hoga"
   ]
  },
  {
   "cell_type": "code",
   "execution_count": null,
   "metadata": {},
   "outputs": [],
   "source": [
    "##########################thanks###################################"
   ]
  }
 ],
 "metadata": {
  "kernelspec": {
   "display_name": "Python 3",
   "language": "python",
   "name": "python3"
  },
  "language_info": {
   "codemirror_mode": {
    "name": "ipython",
    "version": 3
   },
   "file_extension": ".py",
   "mimetype": "text/x-python",
   "name": "python",
   "nbconvert_exporter": "python",
   "pygments_lexer": "ipython3",
   "version": "3.7.3"
  }
 },
 "nbformat": 4,
 "nbformat_minor": 2
}
